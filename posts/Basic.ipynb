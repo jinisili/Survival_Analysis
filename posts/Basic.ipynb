{
 "cells": [
  {
   "cell_type": "raw",
   "metadata": {},
   "source": [
    "---\n",
    "title: \"기본 개념\"\n",
    "author: \"김진실\"\n",
    "date: \"01/22/2024\"\n",
    "---"
   ]
  },
  {
   "cell_type": "markdown",
   "metadata": {},
   "source": [
    "## **함수**"
   ]
  },
  {
   "cell_type": "markdown",
   "metadata": {},
   "source": [
    "`-` 생존시간\n",
    "\n",
    "어떤 정의된 시점부터 특정한 사건(event)이 관측될 때까지의 시간"
   ]
  },
  {
   "cell_type": "markdown",
   "metadata": {},
   "source": [
    "`-` 생존함수\n",
    "\n",
    "$\\displaystyle S(t) = P(T>t) = 1 - F(t)$"
   ]
  },
  {
   "cell_type": "markdown",
   "metadata": {},
   "source": [
    "`-` 위험함수\n",
    "\n",
    "$\\displaystyle h(t) = \\lim_{{h \\to 0}} \\frac{P(t<T<t+h \\mid T \\geq t)}{h} = \\frac{f(t)}{S(t)}$"
   ]
  },
  {
   "cell_type": "markdown",
   "metadata": {},
   "source": [
    "`-` 생존함수와 위험함수의 관계\n",
    "\n",
    "$\\displaystyle h(t) = -\\frac {S'(t)}{S(t)} = \\frac{d \\log S(t)}{dt S(t)}$"
   ]
  },
  {
   "cell_type": "markdown",
   "metadata": {},
   "source": []
  }
 ],
 "metadata": {
  "kernelspec": {
   "display_name": "Python 3",
   "language": "python",
   "name": "python3"
  },
  "language_info": {
   "codemirror_mode": {
    "name": "ipython",
    "version": 3
   },
   "file_extension": ".py",
   "mimetype": "text/x-python",
   "name": "python",
   "nbconvert_exporter": "python",
   "pygments_lexer": "ipython3",
   "version": "3.10.13"
  }
 },
 "nbformat": 4,
 "nbformat_minor": 2
}
